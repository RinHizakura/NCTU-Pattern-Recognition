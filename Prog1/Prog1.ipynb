{
 "cells": [
  {
   "cell_type": "code",
   "execution_count": 1,
   "metadata": {},
   "outputs": [],
   "source": [
    "import numpy as np\n",
    "import pandas as pd\n",
    "from math import sqrt,pi,exp"
   ]
  },
  {
   "cell_type": "code",
   "execution_count": 2,
   "metadata": {},
   "outputs": [],
   "source": [
    "# \"Breast Cancer Wisconsin (Diagnostic) Data Set\"\n",
    "breast_cancer_feature = np.loadtxt(\"wdbc.data\",dtype=np.str,delimiter=',')[:,2:-1].astype(float)\n",
    "label_map = np.loadtxt(\"wdbc.data\",dtype=np.str,delimiter=',')[:,1] #B0 M1\n",
    "breast_cancer_label = np.zeros([len(label_map)],dtype=np.int)\n",
    "breast_cancer_label[label_map=='M'] = 1"
   ]
  },
  {
   "cell_type": "code",
   "execution_count": 3,
   "metadata": {},
   "outputs": [],
   "source": [
    "# \"banknote authentication Data Set\"\n",
    "banknote_feature = np.loadtxt(\"data_banknote_authentication.txt\",dtype=np.float,delimiter=',')[:,0:-1]\n",
    "banknote_label = np.loadtxt(\"data_banknote_authentication.txt\",dtype=np.float,delimiter=',')[:,-1].astype(int)"
   ]
  },
  {
   "cell_type": "code",
   "execution_count": 4,
   "metadata": {},
   "outputs": [],
   "source": [
    "# \"Wine Data Set\"\n",
    "wine_feature = np.loadtxt(\"wine.data\",dtype=np.float,delimiter=',')[:,1:-1]\n",
    "wine_label = np.loadtxt(\"wine.data\",dtype=np.float,delimiter=',')[:,0].astype(int)\n",
    "wine_label-=1"
   ]
  },
  {
   "cell_type": "code",
   "execution_count": 5,
   "metadata": {},
   "outputs": [],
   "source": [
    "# \"Iris Data Set\"\n",
    "iris_feature = np.loadtxt(\"bezdekIris.data\",dtype=np.str,delimiter=',')[:,0:-1].astype(float)\n",
    "label_map = np.loadtxt(\"bezdekIris.data\",dtype=np.str,delimiter=',')[:,-1]\n",
    "\n",
    "iris_label = np.zeros([len(label_map)],dtype=np.int) # Iris-setosa 0 Iris-versicolor 1 Iris-virginica 2\n",
    "iris_label[label_map=='Iris-versicolor'] = 1 \n",
    "iris_label[label_map=='Iris-virginica'] = 2 "
   ]
  },
  {
   "cell_type": "code",
   "execution_count": 6,
   "metadata": {},
   "outputs": [],
   "source": [
    "class Naive_Bayes:\n",
    "    def __init__(self):\n",
    "        return\n",
    "    \n",
    "    def separate(self,feature,label):\n",
    "        separated = dict()\n",
    "        label_list = np.unique(label)\n",
    "        for i in label_list:\n",
    "            separated[i] = feature[label==i]\n",
    "    \n",
    "        return label_list, separated\n",
    "    \n",
    "    # Calculate the Gaussian probability distribution function for x\n",
    "    def calculate_probability(self,x, mean, stdev):\n",
    "        exponent = exp(-((x-mean)**2 / (2 * stdev**2 )))\n",
    "        return (1 / (sqrt(2 * pi) * stdev)) * exponent\n",
    "    \n",
    "    def class_probabilities(self,x,label_list,separated):\n",
    "        probabilities = []\n",
    "        \n",
    "        for class_num in range(len(separated)):\n",
    "            class_value = label_list[class_num]\n",
    "            class_data = separated[class_value]\n",
    "        \n",
    "            mean = np.mean(class_data,axis=0)\n",
    "            std = np.std(class_data,axis=0)\n",
    "\n",
    "            probability = class_data.shape[0]\n",
    "            for idx in  range(class_data.shape[1]): \n",
    "                probability *= self.calculate_probability(x[idx],mean[idx],std[idx])\n",
    "            \n",
    "            probabilities.append(probability)\n",
    "\n",
    "        return np.array(probabilities)\n",
    "    \n",
    "    def fit(self, feature, label):\n",
    "        self.label_list, self.separated = self.separate(feature,label)\n",
    "        \n",
    "        \n",
    "    def predict(self, feature):\n",
    "        \n",
    "        prob = []\n",
    "        \n",
    "        for idx in range(len(feature)):\n",
    "            prob.append(self.class_probabilities(feature[idx],self.label_list,self.separated))\n",
    "           \n",
    "        pred = np.argmax(prob,axis=1)\n",
    "        pred = self.label_list[pred]\n",
    "        \n",
    "        return np.array(prob),pred"
   ]
  },
  {
   "cell_type": "code",
   "execution_count": 7,
   "metadata": {},
   "outputs": [],
   "source": [
    "class Gaussian_Bayes:\n",
    "    def __init__(self):\n",
    "        return\n",
    "    \n",
    "    def separate(self,feature,label):\n",
    "        separated = dict()\n",
    "        label_list = np.unique(label)\n",
    "        for i in label_list:\n",
    "            separated[i] = feature[label==i]\n",
    "    \n",
    "        return label_list, separated\n",
    "    \n",
    "    \n",
    "    def class_probabilities(self,x,label_list,separated):\n",
    "        probabilities = []\n",
    "        \n",
    "        for class_num in range(len(separated)):\n",
    "            class_value = label_list[class_num]\n",
    "            class_data = separated[class_value]\n",
    "            \n",
    "            mean = np.mean(class_data,axis=0)   \n",
    "            cov = ((class_data-mean).T@(class_data-mean)) / (class_data.shape[0])\n",
    "\n",
    "            probability = self.pdf(x,mean,cov)\n",
    "            \n",
    "            probabilities.append(probability)\n",
    "\n",
    "        return np.array(probabilities)\n",
    "    \n",
    "    def fit(self, feature, label):\n",
    "        self.label_list, self.separated = self.separate(feature,label)\n",
    "        \n",
    "    \n",
    "    def pdf(self,x,mean,cov):\n",
    "        k = cov.shape[0]\n",
    "        a = (2*pi)**(-k/2)\n",
    "        b = 1/sqrt(np.linalg.det(cov))\n",
    "        c = exp( (-1/2) * ((x-mean)@np.linalg.inv(cov)@(x-mean).T ) )\n",
    "       \n",
    "        ans = ( a * b * c) \n",
    "        \n",
    "        return ans\n",
    "        \n",
    "    def predict(self, feature):\n",
    "        \n",
    "        prob = []\n",
    "      \n",
    "        a = np.mean(self.separated[0],axis=0)   \n",
    "       \n",
    "        b = ((self.separated[0]-a).T@(self.separated[0]-a)) / (self.separated[0].shape[0])\n",
    "        \n",
    "        self.pdf(self.separated[0][0],a,b)\n",
    "        \n",
    "        for idx in range(len(feature)):\n",
    "            prob.append(self.class_probabilities(feature[idx],self.label_list,self.separated))\n",
    "        \n",
    "        pred = np.argmax(prob,axis=1)\n",
    "        pred = self.label_list[pred]\n",
    "        \n",
    "        return np.array(prob),pred"
   ]
  },
  {
   "cell_type": "code",
   "execution_count": 8,
   "metadata": {},
   "outputs": [],
   "source": [
    "class Perceptron:\n",
    "    def __init__(self,eta=0.01,n_iter=10,threshold=0):\n",
    "        self.eta = eta\n",
    "        self.n_iter = n_iter\n",
    "        self.threshold = threshold\n",
    "        \n",
    "    def fit(self, X, y):\n",
    "        self.w_ = np.zeros(1 + X.shape[1])\n",
    "        for i in range(self.n_iter):\n",
    "            for Xi,target in zip(X,y):\n",
    "                update = self.eta*(target - self.calc_ans(Xi))\n",
    "                self.w_[1:] += update*Xi\n",
    "                self.w_[0] += update\n",
    "                \n",
    "    def net_input(self, X):\n",
    "        return np.dot(X,self.w_[1:])+self.w_[0]\n",
    "    \n",
    "    def calc_ans(self, x):\n",
    "        if self.net_input(x)>=self.threshold:\n",
    "            return 1\n",
    "        else:\n",
    "            return 0\n",
    "\n",
    "    def predict(self, X):\n",
    "        predict = []\n",
    "        prob = []\n",
    "        for idx in range(len(X)):  \n",
    "            prob.append(self.net_input(X[idx]))\n",
    "            predict.append(self.calc_ans(X[idx]))\n",
    "            \n",
    "        return np.array(prob),np.array(predict)"
   ]
  },
  {
   "cell_type": "code",
   "execution_count": 9,
   "metadata": {},
   "outputs": [],
   "source": [
    "df_feature = breast_cancer_feature\n",
    "df_label = breast_cancer_label\n",
    "\n",
    "#df_feature = banknote_feature\n",
    "#df_label = banknote_label\n",
    "\n",
    "#df_feature = wine_feature\n",
    "#df_label = wine_label\n",
    "\n",
    "#df_feature = iris_feature\n",
    "#df_label = iris_label"
   ]
  },
  {
   "cell_type": "code",
   "execution_count": 10,
   "metadata": {},
   "outputs": [],
   "source": [
    "# pick 10% of data for test\n",
    "msk = np.random.rand(len(df_feature)) < 0.9\n",
    "test_feature = df_feature[~msk]\n",
    "test_label = df_label[~msk]\n",
    "\n",
    "train_feature = df_feature[msk]\n",
    "train_label = df_label[msk]"
   ]
  },
  {
   "cell_type": "code",
   "execution_count": 11,
   "metadata": {},
   "outputs": [],
   "source": [
    "# stack feature and label together, then shuffle it for cross-validation\n",
    "for_shuffle = np.hstack((train_feature,np.expand_dims(train_label, axis=1)))\n",
    "np.random.shuffle(for_shuffle)\n",
    "train_feature = for_shuffle[:,0:-1]\n",
    "train_label = for_shuffle[:,-1].astype(int)"
   ]
  },
  {
   "cell_type": "code",
   "execution_count": 12,
   "metadata": {},
   "outputs": [],
   "source": [
    "# Here just use first fold for validation\n",
    "fold_entry = int(len(train_feature)/10)\n",
    "val_feature = train_feature[0:fold_entry,:]\n",
    "val_label = train_label[0:fold_entry]\n",
    "\n",
    "train_feature = train_feature[fold_entry:-1,:]\n",
    "train_label = train_label[fold_entry:-1]"
   ]
  },
  {
   "cell_type": "code",
   "execution_count": 13,
   "metadata": {},
   "outputs": [],
   "source": [
    "def confusion_mat(true,pred):\n",
    "    K = len(np.unique(true)) # Number of classes \n",
    "    result = np.zeros((K, K))\n",
    "\n",
    "    for i in range(len(true)):\n",
    "        result[true[i]][pred[i]] += 1\n",
    "\n",
    "    return result"
   ]
  },
  {
   "cell_type": "code",
   "execution_count": 14,
   "metadata": {},
   "outputs": [],
   "source": [
    "def accuracy(true,pred):\n",
    "    return np.sum(true==pred)/len(true)"
   ]
  },
  {
   "cell_type": "code",
   "execution_count": 15,
   "metadata": {},
   "outputs": [],
   "source": [
    "import matplotlib.pyplot as plt\n",
    "def ROC_plot(fpr,tpr):\n",
    "    plt.figure()\n",
    "    lw = 2\n",
    "    plt.plot(fpr, tpr, color='darkorange',\n",
    "             lw=lw, label='ROC curve')\n",
    "    plt.xlim([0.0, 1.0])\n",
    "    plt.ylim([0.0, 1.05])\n",
    "    plt.xlabel('False Positive Rate')\n",
    "    plt.ylabel('True Positive Rate')\n",
    "    plt.title('ROC curve')\n",
    "    plt.legend(loc=\"lower right\")\n",
    "    plt.show()"
   ]
  },
  {
   "cell_type": "code",
   "execution_count": 16,
   "metadata": {},
   "outputs": [],
   "source": [
    "def predict_result(score,threshold):\n",
    "    pred = np.zeros([score.shape[0]]).astype(np.int)\n",
    "    pred[score>threshold] = 1\n",
    "    return pred"
   ]
  },
  {
   "cell_type": "code",
   "execution_count": 17,
   "metadata": {},
   "outputs": [],
   "source": [
    "def ROC(label,score):\n",
    "    threshold = np.max(score)+1\n",
    "    desc_score_indices = np.sort(score, kind=\"mergesort\")[::-1]\n",
    "    \n",
    "    fpr_collect = []\n",
    "    tpr_collect = []\n",
    "    threshold_collect = []\n",
    "    for i in range(len(desc_score_indices)): \n",
    "        pred = predict_result(score,threshold)\n",
    "        matrix = confusion_mat(label,pred)\n",
    "\n",
    "        tn = matrix[0][0]\n",
    "        fp = matrix[0][1]\n",
    "        fn = matrix[1][0]\n",
    "        tp = matrix[1][1]\n",
    "\n",
    "        fpr = fp/(fp+tn)\n",
    "        tpr = tp/(tp+fn)\n",
    "        \n",
    "        fpr_collect.append(fpr)\n",
    "        tpr_collect.append(tpr)\n",
    "        threshold_collect.append(threshold)\n",
    "        \n",
    "        threshold = desc_score_indices[i]\n",
    "    \n",
    "    return np.array(fpr_collect),np.array(tpr_collect),threshold_collect\n",
    "    "
   ]
  },
  {
   "cell_type": "code",
   "execution_count": 18,
   "metadata": {},
   "outputs": [],
   "source": [
    "def AUC(x,y):\n",
    "    return np.trapz(y, x)"
   ]
  },
  {
   "cell_type": "code",
   "execution_count": 19,
   "metadata": {},
   "outputs": [],
   "source": [
    "def output_for_2class(train_feature,train_label,val_feature,val_label,test_feature,test_label):\n",
    "    ## For naive bayes classifier\n",
    "    naive_bayes_classifier = Naive_Bayes()\n",
    "    naive_bayes_classifier.fit(train_feature,train_label)\n",
    "    \n",
    "    prob, pred = naive_bayes_classifier.predict(val_feature)\n",
    "    print(\"Naive Bayes Classifier/validation\")\n",
    "    print(\"Accuracy:\",accuracy(val_label, pred))\n",
    "    print(\"Confusion Matrix:\")\n",
    "    print(confusion_mat(val_label, pred))\n",
    "    fpr, tpr, thresholds = ROC(val_label,prob[:,1])\n",
    "    print(\"AUC:\",AUC(fpr,tpr))\n",
    "    ROC_plot(fpr,tpr)\n",
    "    \n",
    "    \n",
    "    prob,pred = naive_bayes_classifier.predict(test_feature)\n",
    "    print(\"Naive Bayes Classifier/testing\")\n",
    "    print(\"Accuracy:\",accuracy(test_label, pred))\n",
    "    print(\"Confusion Matrix:\")\n",
    "    print(confusion_mat(test_label, pred))\n",
    "    fpr, tpr, thresholds = ROC(test_label,prob[:,1])\n",
    "    print(\"AUC:\",AUC(fpr,tpr))\n",
    "    ROC_plot(fpr,tpr)\n",
    "    \n",
    "    ## For gaussian bayes classifier\n",
    "    gaussian_bayes_classifier = Gaussian_Bayes()\n",
    "    gaussian_bayes_classifier.fit(train_feature,train_label)\n",
    "    \n",
    "    prob,pred = gaussian_bayes_classifier.predict(val_feature)\n",
    "    print(\"Gaussian Bayes Classifier/validation\")\n",
    "    print(\"Accuracy:\",accuracy(val_label, pred))\n",
    "    print(\"Confusion Matrix:\")\n",
    "    print(confusion_mat(val_label, pred))\n",
    "    fpr, tpr, thresholds =  ROC(val_label,prob[:,1])\n",
    "    print(\"AUC:\",AUC(fpr,tpr))\n",
    "    ROC_plot(fpr,tpr)\n",
    "    \n",
    "    prob,pred = gaussian_bayes_classifier.predict(test_feature)\n",
    "    print(\"Gaussian Bayes Classifier/testing\")\n",
    "    print(\"Accuracy:\",accuracy(test_label, pred))\n",
    "    print(\"Confusion Matrix:\")\n",
    "    print(confusion_mat(test_label, pred))\n",
    "    fpr, tpr, thresholds =  ROC(test_label,prob[:,1])\n",
    "    print(\"AUC:\",AUC(fpr,tpr))\n",
    "    ROC_plot(fpr,tpr)\n",
    "\n",
    "    ## For Linear classifier(perceptron)\n",
    "    linear_classifier = Perceptron()\n",
    "    linear_classifier.fit(train_feature,train_label)\n",
    "\n",
    "    prob,pred = linear_classifier.predict(val_feature)\n",
    "    print(\"Linear Classifier/validation\")\n",
    "    print(\"Accuracy:\",accuracy(val_label, pred))\n",
    "    print(\"Confusion Matrix:\")\n",
    "    print(confusion_mat(val_label, pred))\n",
    "    fpr, tpr, thresholds =  ROC(val_label,prob)\n",
    "    print(\"AUC:\",AUC(fpr,tpr))\n",
    "    ROC_plot(fpr,tpr)\n",
    "\n",
    "    prob,pred = linear_classifier.predict(test_feature)\n",
    "    print(\"Linear Classifier/testing\")\n",
    "    print(\"Accuracy:\",accuracy(test_label, pred))\n",
    "    print(\"Confusion Matrix:\")\n",
    "    print(confusion_mat(test_label, pred))\n",
    "    fpr, tpr, thresholds =  ROC(test_label,prob)\n",
    "    print(\"AUC:\",AUC(fpr,tpr))\n",
    "    ROC_plot(fpr,tpr)"
   ]
  },
  {
   "cell_type": "code",
   "execution_count": 20,
   "metadata": {},
   "outputs": [],
   "source": [
    "def output_for_multiclass(train_feature,train_label,val_feature,val_label,test_feature,test_label):\n",
    "    ## For naive bayes classifier\n",
    "    naive_bayes_classifier = Naive_Bayes()\n",
    "    naive_bayes_classifier.fit(train_feature,train_label)\n",
    "    \n",
    "    prob, pred = naive_bayes_classifier.predict(val_feature)\n",
    "    print(\"Naive Bayes Classifier/validation\")\n",
    "    print(\"Accuracy:\",accuracy(val_label, pred))\n",
    "    print(\"Confusion Matrix:\")\n",
    "    print(confusion_mat(val_label, pred))\n",
    "    \n",
    "    prob,pred = naive_bayes_classifier.predict(test_feature)\n",
    "    print(\"Naive Bayes Classifier/testing\")\n",
    "    print(\"Accuracy:\",accuracy(test_label, pred))\n",
    "    print(\"Confusion Matrix:\")\n",
    "    print(confusion_mat(test_label, pred))\n",
    "    \n",
    "    ## For gaussian bayes classifier\n",
    "    gaussian_bayes_classifier = Gaussian_Bayes()\n",
    "    gaussian_bayes_classifier.fit(train_feature,train_label)\n",
    "    \n",
    "    prob,pred = gaussian_bayes_classifier.predict(val_feature)\n",
    "    print(\"Gaussian Bayes Classifier/validation\")\n",
    "    print(\"Accuracy:\",accuracy(val_label, pred))\n",
    "    print(\"Confusion Matrix:\")\n",
    "    print(confusion_mat(val_label, pred))\n",
    "    \n",
    "    prob,pred = gaussian_bayes_classifier.predict(test_feature)\n",
    "    print(\"Gaussian Bayes Classifier/testing\")\n",
    "    print(\"Accuracy:\",accuracy(test_label, pred))\n",
    "    print(\"Confusion Matrix:\")\n",
    "    print(confusion_mat(test_label, pred))"
   ]
  },
  {
   "cell_type": "code",
   "execution_count": 21,
   "metadata": {},
   "outputs": [],
   "source": [
    "def ten_fold_evaluation(df_feature,df_label):\n",
    "    # pick 10% of data for test\n",
    "    msk = np.random.rand(len(df_feature)) < 0.9\n",
    "    test_feature = df_feature[~msk]\n",
    "    test_label = df_label[~msk]\n",
    "\n",
    "    train_feature = df_feature[msk]\n",
    "    train_label = df_label[msk]\n",
    "    \n",
    "    # stack feature and label together, then shuffle it for cross-validation\n",
    "    for_shuffle = np.hstack((train_feature,np.expand_dims(train_label, axis=1)))\n",
    "    np.random.shuffle(for_shuffle)\n",
    "    feature = for_shuffle[:,0:-1]\n",
    "    label = for_shuffle[:,-1].astype(int)\n",
    "\n",
    "    # For 10 Fold, and use \n",
    "    fold_entry = int(len(feature)/10)\n",
    "    for fold in range(0,10,1):\n",
    "        idx = np.arange(fold_entry*fold,fold_entry*(fold+1))\n",
    "        val_feature = feature[idx,:]\n",
    "        val_label = label[idx]\n",
    "\n",
    "        train_feature = feature[~idx,:]\n",
    "        train_label = label[~idx]\n",
    "\n",
    "        ## For Linear classifier(perceptron)\n",
    "        linear_classifier = Perceptron(n_iter=300)\n",
    "        linear_classifier.fit(train_feature,train_label)\n",
    "\n",
    "        prob,pred = linear_classifier.predict(val_feature)\n",
    "        print(\"Linear Classifier/validation\")\n",
    "        print(\"Accuracy:\",accuracy(val_label, pred))\n",
    "        print(\"Confusion Matrix:\")\n",
    "        print(confusion_mat(val_label, pred))\n",
    "        fpr, tpr, thresholds =  ROC(val_label,prob)\n",
    "        print(\"AUC:\",AUC(fpr,tpr))\n",
    "        ROC_plot(fpr,tpr)"
   ]
  },
  {
   "cell_type": "code",
   "execution_count": 22,
   "metadata": {},
   "outputs": [
    {
     "name": "stdout",
     "output_type": "stream",
     "text": [
      "Linear Classifier/validation\n",
      "Accuracy: 0.9411764705882353\n",
      "Confusion Matrix:\n",
      "[[33.  2.]\n",
      " [ 1. 15.]]\n",
      "AUC: 0.8857142857142857\n"
     ]
    },
    {
     "data": {
      "image/png": "[encoded data removed]",
      "text/plain": [
       "<Figure size 432x288 with 1 Axes>"
      ]
     },
     "metadata": {
      "needs_background": "light"
     },
     "output_type": "display_data"
    },
    {
     "name": "stdout",
     "output_type": "stream",
     "text": [
      "Linear Classifier/validation\n",
      "Accuracy: 0.9411764705882353\n",
      "Confusion Matrix:\n",
      "[[31.  2.]\n",
      " [ 1. 17.]]\n",
      "AUC: 0.9191919191919192\n"
     ]
    },
    {
     "data": {
      "image/png": "[encoded data removed]",
      "text/plain": [
       "<Figure size 432x288 with 1 Axes>"
      ]
     },
     "metadata": {
      "needs_background": "light"
     },
     "output_type": "display_data"
    },
    {
     "name": "stdout",
     "output_type": "stream",
     "text": [
      "Linear Classifier/validation\n",
      "Accuracy: 0.9215686274509803\n",
      "Confusion Matrix:\n",
      "[[35.  0.]\n",
      " [ 4. 12.]]\n",
      "AUC: 0.9017857142857143\n"
     ]
    },
    {
     "data": {
      "image/png": "[encoded data removed]",
      "text/plain": [
       "<Figure size 432x288 with 1 Axes>"
      ]
     },
     "metadata": {
      "needs_background": "light"
     },
     "output_type": "display_data"
    },
    {
     "name": "stdout",
     "output_type": "stream",
     "text": [
      "Linear Classifier/validation\n",
      "Accuracy: 0.8823529411764706\n",
      "Confusion Matrix:\n",
      "[[29.  1.]\n",
      " [ 5. 16.]]\n",
      "AUC: 0.9158730158730158\n"
     ]
    },
    {
     "data": {
      "image/png": "[encoded data removed]",
      "text/plain": [
       "<Figure size 432x288 with 1 Axes>"
      ]
     },
     "metadata": {
      "needs_background": "light"
     },
     "output_type": "display_data"
    },
    {
     "name": "stdout",
     "output_type": "stream",
     "text": [
      "Linear Classifier/validation\n",
      "Accuracy: 0.6470588235294118\n",
      "Confusion Matrix:\n",
      "[[14. 18.]\n",
      " [ 0. 19.]]\n",
      "AUC: 0.9111842105263158\n"
     ]
    },
    {
     "data": {
      "image/png": "[encoded data removed]",
      "text/plain": [
       "<Figure size 432x288 with 1 Axes>"
      ]
     },
     "metadata": {
      "needs_background": "light"
     },
     "output_type": "display_data"
    },
    {
     "name": "stdout",
     "output_type": "stream",
     "text": [
      "Linear Classifier/validation\n",
      "Accuracy: 0.9019607843137255\n",
      "Confusion Matrix:\n",
      "[[29.  1.]\n",
      " [ 4. 17.]]\n",
      "AUC: 0.8761904761904762\n"
     ]
    },
    {
     "data": {
      "image/png": "[encoded data removed]",
      "text/plain": [
       "<Figure size 432x288 with 1 Axes>"
      ]
     },
     "metadata": {
      "needs_background": "light"
     },
     "output_type": "display_data"
    },
    {
     "name": "stdout",
     "output_type": "stream",
     "text": [
      "Linear Classifier/validation\n",
      "Accuracy: 0.8627450980392157\n",
      "Confusion Matrix:\n",
      "[[25.  2.]\n",
      " [ 5. 19.]]\n",
      "AUC: 0.888888888888889\n"
     ]
    },
    {
     "data": {
      "image/png": "[encoded data removed]",
      "text/plain": [
       "<Figure size 432x288 with 1 Axes>"
      ]
     },
     "metadata": {
      "needs_background": "light"
     },
     "output_type": "display_data"
    },
    {
     "name": "stdout",
     "output_type": "stream",
     "text": [
      "Linear Classifier/validation\n",
      "Accuracy: 0.9215686274509803\n",
      "Confusion Matrix:\n",
      "[[29.  2.]\n",
      " [ 2. 18.]]\n",
      "AUC: 0.8903225806451611\n"
     ]
    },
    {
     "data": {
      "image/png": "[encoded data removed]",
      "text/plain": [
       "<Figure size 432x288 with 1 Axes>"
      ]
     },
     "metadata": {
      "needs_background": "light"
     },
     "output_type": "display_data"
    },
    {
     "name": "stdout",
     "output_type": "stream",
     "text": [
      "Linear Classifier/validation\n",
      "Accuracy: 0.9411764705882353\n",
      "Confusion Matrix:\n",
      "[[30.  1.]\n",
      " [ 2. 18.]]\n",
      "AUC: 0.8838709677419354\n"
     ]
    },
    {
     "data": {
      "image/png": "[encoded data removed]",
      "text/plain": [
       "<Figure size 432x288 with 1 Axes>"
      ]
     },
     "metadata": {
      "needs_background": "light"
     },
     "output_type": "display_data"
    },
    {
     "name": "stdout",
     "output_type": "stream",
     "text": [
      "Linear Classifier/validation\n",
      "Accuracy: 0.9215686274509803\n",
      "Confusion Matrix:\n",
      "[[34.  1.]\n",
      " [ 3. 13.]]\n",
      "AUC: 0.8678571428571429\n"
     ]
    },
    {
     "data": {
      "image/png": "[encoded data removed]",
      "text/plain": [
       "<Figure size 432x288 with 1 Axes>"
      ]
     },
     "metadata": {
      "needs_background": "light"
     },
     "output_type": "display_data"
    }
   ],
   "source": [
    "ten_fold_evaluation(df_feature,df_label)"
   ]
  },
  {
   "cell_type": "code",
   "execution_count": 23,
   "metadata": {
    "scrolled": true
   },
   "outputs": [
    {
     "name": "stdout",
     "output_type": "stream",
     "text": [
      "Naive Bayes Classifier/validation\n",
      "Accuracy: 0.96\n",
      "Confusion Matrix:\n",
      "[[32.  0.]\n",
      " [ 2. 16.]]\n",
      "AUC: 0.826388888888889\n"
     ]
    },
    {
     "data": {
      "image/png": "[encoded data removed]",
      "text/plain": [
       "<Figure size 432x288 with 1 Axes>"
      ]
     },
     "metadata": {
      "needs_background": "light"
     },
     "output_type": "display_data"
    },
    {
     "name": "stdout",
     "output_type": "stream",
     "text": [
      "Naive Bayes Classifier/testing\n",
      "Accuracy: 0.95\n",
      "Confusion Matrix:\n",
      "[[37.  1.]\n",
      " [ 2. 20.]]\n",
      "AUC: 0.8863636363636362\n"
     ]
    },
    {
     "data": {
      "image/png": "[encoded data removed]",
      "text/plain": [
       "<Figure size 432x288 with 1 Axes>"
      ]
     },
     "metadata": {
      "needs_background": "light"
     },
     "output_type": "display_data"
    },
    {
     "name": "stdout",
     "output_type": "stream",
     "text": [
      "Gaussian Bayes Classifier/validation\n",
      "Accuracy: 0.96\n",
      "Confusion Matrix:\n",
      "[[32.  0.]\n",
      " [ 2. 16.]]\n",
      "AUC: 0.5416666666666666\n"
     ]
    },
    {
     "data": {
      "image/png": "[encoded data removed]",
      "text/plain": [
       "<Figure size 432x288 with 1 Axes>"
      ]
     },
     "metadata": {
      "needs_background": "light"
     },
     "output_type": "display_data"
    },
    {
     "name": "stdout",
     "output_type": "stream",
     "text": [
      "Gaussian Bayes Classifier/testing\n",
      "Accuracy: 0.9833333333333333\n",
      "Confusion Matrix:\n",
      "[[38.  0.]\n",
      " [ 1. 21.]]\n",
      "AUC: 0.7236842105263158\n"
     ]
    },
    {
     "data": {
      "image/png": "[encoded data removed]",
      "text/plain": [
       "<Figure size 432x288 with 1 Axes>"
      ]
     },
     "metadata": {
      "needs_background": "light"
     },
     "output_type": "display_data"
    },
    {
     "name": "stdout",
     "output_type": "stream",
     "text": [
      "Linear Classifier/validation\n",
      "Accuracy: 0.82\n",
      "Confusion Matrix:\n",
      "[[26.  6.]\n",
      " [ 3. 15.]]\n",
      "AUC: 0.8680555555555556\n"
     ]
    },
    {
     "data": {
      "image/png": "[encoded data removed]",
      "text/plain": [
       "<Figure size 432x288 with 1 Axes>"
      ]
     },
     "metadata": {
      "needs_background": "light"
     },
     "output_type": "display_data"
    },
    {
     "name": "stdout",
     "output_type": "stream",
     "text": [
      "Linear Classifier/testing\n",
      "Accuracy: 0.9\n",
      "Confusion Matrix:\n",
      "[[32.  6.]\n",
      " [ 0. 22.]]\n",
      "AUC: 0.9389952153110047\n"
     ]
    },
    {
     "data": {
      "image/png": "[encoded data removed]",
      "text/plain": [
       "<Figure size 432x288 with 1 Axes>"
      ]
     },
     "metadata": {
      "needs_background": "light"
     },
     "output_type": "display_data"
    }
   ],
   "source": [
    "output_for_2class(train_feature,train_label,val_feature,val_label,test_feature,test_label)"
   ]
  },
  {
   "cell_type": "code",
   "execution_count": 24,
   "metadata": {
    "scrolled": false
   },
   "outputs": [
    {
     "name": "stdout",
     "output_type": "stream",
     "text": [
      "Naive Bayes Classifier/validation\n",
      "Accuracy: 0.96\n",
      "Confusion Matrix:\n",
      "[[32.  0.]\n",
      " [ 2. 16.]]\n",
      "Naive Bayes Classifier/testing\n",
      "Accuracy: 0.95\n",
      "Confusion Matrix:\n",
      "[[37.  1.]\n",
      " [ 2. 20.]]\n",
      "Gaussian Bayes Classifier/validation\n",
      "Accuracy: 0.96\n",
      "Confusion Matrix:\n",
      "[[32.  0.]\n",
      " [ 2. 16.]]\n",
      "Gaussian Bayes Classifier/testing\n",
      "Accuracy: 0.9833333333333333\n",
      "Confusion Matrix:\n",
      "[[38.  0.]\n",
      " [ 1. 21.]]\n"
     ]
    }
   ],
   "source": [
    "output_for_multiclass(train_feature,train_label,val_feature,val_label,test_feature,test_label)"
   ]
  },
  {
   "cell_type": "code",
   "execution_count": null,
   "metadata": {},
   "outputs": [],
   "source": []
  }
 ],
 "metadata": {
  "kernelspec": {
   "display_name": "Python 3",
   "language": "python",
   "name": "python3"
  },
  "language_info": {
   "codemirror_mode": {
    "name": "ipython",
    "version": 3
   },
   "file_extension": ".py",
   "mimetype": "text/x-python",
   "name": "python",
   "nbconvert_exporter": "python",
   "pygments_lexer": "ipython3",
   "version": "3.7.6"
  }
 },
 "nbformat": 4,
 "nbformat_minor": 4
}
