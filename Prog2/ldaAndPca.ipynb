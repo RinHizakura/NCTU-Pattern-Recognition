{
 "cells": [
  {
   "cell_type": "code",
   "execution_count": 1,
   "metadata": {},
   "outputs": [],
   "source": [
    "import numpy as np\n",
    "import pandas as pd\n",
    "from math import sqrt,pi,exp"
   ]
  },
  {
   "cell_type": "code",
   "execution_count": 2,
   "metadata": {},
   "outputs": [],
   "source": [
    "class Naive_Bayes:\n",
    "    def __init__(self):\n",
    "        return\n",
    "    \n",
    "    def separate(self,feature,label):\n",
    "        separated = dict()\n",
    "        label_list = np.unique(label)\n",
    "        for i in label_list:\n",
    "            separated[i] = feature[label==i]\n",
    "    \n",
    "        return label_list, separated\n",
    "    \n",
    "    # Calculate the Gaussian probability distribution function for x\n",
    "    def calculate_probability(self,x, mean, stdev):\n",
    "        exponent = exp(-((x-mean)**2 / (2 * stdev**2 )))\n",
    "        return (1 / (sqrt(2 * pi) * stdev)) * exponent\n",
    "    \n",
    "    def class_probabilities(self,x,label_list,separated):\n",
    "        probabilities = []\n",
    "        \n",
    "        for class_num in range(len(separated)):\n",
    "            class_value = label_list[class_num]\n",
    "            class_data = separated[class_value]\n",
    "        \n",
    "            mean = np.mean(class_data,axis=0)\n",
    "            std = np.std(class_data,axis=0)\n",
    "\n",
    "            probability = class_data.shape[0]\n",
    "            for idx in  range(class_data.shape[1]): \n",
    "                probability *= self.calculate_probability(x[idx],mean[idx],std[idx])\n",
    "            \n",
    "            probabilities.append(probability)\n",
    "\n",
    "        return np.array(probabilities)\n",
    "    \n",
    "    def fit(self, feature, label):\n",
    "        self.label_list, self.separated = self.separate(feature,label)\n",
    "        \n",
    "        \n",
    "    def predict(self, feature):\n",
    "        \n",
    "        prob = []\n",
    "        \n",
    "        for idx in range(len(feature)):\n",
    "            prob.append(self.class_probabilities(feature[idx],self.label_list,self.separated))\n",
    "           \n",
    "        pred = np.argmax(prob,axis=1)\n",
    "        pred = self.label_list[pred]\n",
    "        \n",
    "        return np.array(prob),pred"
   ]
  },
  {
   "cell_type": "code",
   "execution_count": 3,
   "metadata": {},
   "outputs": [],
   "source": [
    "class Gaussian_Bayes:\n",
    "    def __init__(self):\n",
    "        return\n",
    "    \n",
    "    def separate(self,feature,label):\n",
    "        separated = dict()\n",
    "        label_list = np.unique(label)\n",
    "        for i in label_list:\n",
    "            separated[i] = feature[label==i]\n",
    "    \n",
    "        return label_list, separated\n",
    "    \n",
    "    \n",
    "    def class_probabilities(self,x,label_list,separated):\n",
    "        probabilities = []\n",
    "        \n",
    "        for class_num in range(len(separated)):\n",
    "            class_value = label_list[class_num]\n",
    "            class_data = separated[class_value]\n",
    "            \n",
    "            mean = np.mean(class_data,axis=0)   \n",
    "            cov = ((class_data-mean).T@(class_data-mean)) / (class_data.shape[0])\n",
    "\n",
    "            probability = self.pdf(x,mean,cov)\n",
    "            \n",
    "            probabilities.append(probability)\n",
    "\n",
    "        return np.array(probabilities)\n",
    "    \n",
    "    def fit(self, feature, label):\n",
    "        self.label_list, self.separated = self.separate(feature,label)\n",
    "        \n",
    "    \n",
    "    def pdf(self,x,mean,cov):\n",
    "        k = cov.shape[0]\n",
    "        a = (2*pi)**(-k/2)\n",
    "        b = 1/sqrt(np.linalg.det(cov))\n",
    "        c = exp( (-1/2) * ((x-mean)@np.linalg.inv(cov)@(x-mean).T ) )\n",
    "       \n",
    "        ans = ( a * b * c) \n",
    "        \n",
    "        return ans\n",
    "        \n",
    "    def predict(self, feature):\n",
    "        \n",
    "        prob = []\n",
    "      \n",
    "        a = np.mean(self.separated[0],axis=0)   \n",
    "       \n",
    "        b = ((self.separated[0]-a).T@(self.separated[0]-a)) / (self.separated[0].shape[0])\n",
    "        \n",
    "        self.pdf(self.separated[0][0],a,b)\n",
    "        \n",
    "        for idx in range(len(feature)):\n",
    "            prob.append(self.class_probabilities(feature[idx],self.label_list,self.separated))\n",
    "        \n",
    "        pred = np.argmax(prob,axis=1)\n",
    "        pred = self.label_list[pred]\n",
    "        \n",
    "        return np.array(prob),pred"
   ]
  },
  {
   "cell_type": "code",
   "execution_count": 4,
   "metadata": {},
   "outputs": [],
   "source": [
    "class Perceptron:\n",
    "    def __init__(self,eta=0.01,n_iter=50,threshold=0):\n",
    "        self.eta = eta\n",
    "        self.n_iter = n_iter\n",
    "        self.threshold = threshold\n",
    "        \n",
    "    def fit(self, X, y):\n",
    "        self.w_ = np.zeros(1 + X.shape[1])\n",
    "        for i in range(self.n_iter):\n",
    "            for Xi,target in zip(X,y):\n",
    "                update = self.eta*(target - self.calc_ans(Xi))\n",
    "                self.w_[1:] += update*Xi\n",
    "                self.w_[0] += update\n",
    "                \n",
    "    def net_input(self, X):\n",
    "        return np.dot(X,self.w_[1:])+self.w_[0]\n",
    "    \n",
    "    def calc_ans(self, x):\n",
    "        if self.net_input(x)>=self.threshold:\n",
    "            return 1\n",
    "        else:\n",
    "            return 0\n",
    "\n",
    "    def predict(self, X):\n",
    "        predict = []\n",
    "        prob = []\n",
    "        for idx in range(len(X)):  \n",
    "            prob.append(self.net_input(X[idx]))\n",
    "            predict.append(self.calc_ans(X[idx]))\n",
    "            \n",
    "        return np.array(prob),np.array(predict)"
   ]
  },
  {
   "cell_type": "code",
   "execution_count": 5,
   "metadata": {},
   "outputs": [],
   "source": [
    "def accuracy(true,pred):\n",
    "    return np.sum(true==pred)/len(true)"
   ]
  },
  {
   "cell_type": "code",
   "execution_count": 6,
   "metadata": {},
   "outputs": [],
   "source": [
    "def confusion_mat(true,pred):\n",
    "    K = len(np.unique(true)) # Number of classes \n",
    "    result = np.zeros((K, K))\n",
    "\n",
    "    for i in range(len(true)):\n",
    "        result[true[i]][pred[i]] += 1\n",
    "\n",
    "    return result"
   ]
  },
  {
   "cell_type": "code",
   "execution_count": 7,
   "metadata": {},
   "outputs": [],
   "source": [
    "import matplotlib.pyplot as plt\n",
    "def ROC_plot(fpr,tpr):\n",
    "    plt.figure()\n",
    "    lw = 2\n",
    "    plt.plot(fpr, tpr, color='darkorange',\n",
    "             lw=lw, label='ROC curve')\n",
    "    plt.xlim([0.0, 1.0])\n",
    "    plt.ylim([0.0, 1.05])\n",
    "    plt.xlabel('False Positive Rate')\n",
    "    plt.ylabel('True Positive Rate')\n",
    "    plt.title('ROC curve')\n",
    "    plt.legend(loc=\"lower right\")\n",
    "    plt.show()"
   ]
  },
  {
   "cell_type": "code",
   "execution_count": 8,
   "metadata": {},
   "outputs": [],
   "source": [
    "def predict_result(score,threshold):\n",
    "    pred = np.zeros([score.shape[0]]).astype(np.int)\n",
    "    pred[score>threshold] = 1\n",
    "    return pred"
   ]
  },
  {
   "cell_type": "code",
   "execution_count": 9,
   "metadata": {},
   "outputs": [],
   "source": [
    "def ROC(label,score):\n",
    "    threshold = np.max(score)+1\n",
    "    desc_score_indices = np.sort(score, kind=\"mergesort\")[::-1]\n",
    "    \n",
    "    fpr_collect = []\n",
    "    tpr_collect = []\n",
    "    threshold_collect = []\n",
    "    for i in range(len(desc_score_indices)): \n",
    "        pred = predict_result(score,threshold)\n",
    "        matrix = confusion_mat(label,pred)\n",
    "\n",
    "        tn = matrix[0][0]\n",
    "        fp = matrix[0][1]\n",
    "        fn = matrix[1][0]\n",
    "        tp = matrix[1][1]\n",
    "\n",
    "        fpr = fp/(fp+tn)\n",
    "        tpr = tp/(tp+fn)\n",
    "        \n",
    "        fpr_collect.append(fpr)\n",
    "        tpr_collect.append(tpr)\n",
    "        threshold_collect.append(threshold)\n",
    "        \n",
    "        threshold = desc_score_indices[i]\n",
    "    \n",
    "    return np.array(fpr_collect),np.array(tpr_collect),threshold_collect"
   ]
  },
  {
   "cell_type": "code",
   "execution_count": 10,
   "metadata": {},
   "outputs": [],
   "source": [
    "def AUC(x,y):\n",
    "    return np.trapz(y, x)"
   ]
  },
  {
   "cell_type": "code",
   "execution_count": 11,
   "metadata": {},
   "outputs": [],
   "source": [
    "# \"Breast Cancer Wisconsin (Diagnostic) Data Set\"\n",
    "breast_cancer_feature = np.loadtxt(\"wdbc.data\",dtype=np.str,delimiter=',')[:,2:-1].astype(float)\n",
    "label_map = np.loadtxt(\"wdbc.data\",dtype=np.str,delimiter=',')[:,1] #B0 M1\n",
    "breast_cancer_label = np.zeros([len(label_map)],dtype=np.int)\n",
    "breast_cancer_label[label_map=='M'] = 1"
   ]
  },
  {
   "cell_type": "code",
   "execution_count": 12,
   "metadata": {},
   "outputs": [],
   "source": [
    "df_feature = breast_cancer_feature\n",
    "df_label = breast_cancer_label\n",
    "feature_num = df_feature.shape[1]"
   ]
  },
  {
   "cell_type": "code",
   "execution_count": 13,
   "metadata": {},
   "outputs": [],
   "source": [
    "class LDA:\n",
    "    def __init__(self):\n",
    "        return\n",
    "    \n",
    "    def fit(self, feature, label):\n",
    "        feature_num = feature.shape[1]\n",
    "        \n",
    "        pos_feature = feature[np.where(label==1)]\n",
    "        neg_feature = feature[np.where(label==0)]\n",
    "        \n",
    "        pos_means = np.mean(pos_feature,axis=0).reshape(1,feature_num)\n",
    "        neg_means = np.mean(neg_feature,axis=0).reshape(1,feature_num)\n",
    "        means = np.mean(train_feature,axis=0).reshape(1,feature_num)\n",
    "        \n",
    "        # Compute the within class scatter matrices\n",
    "        within_class_scatter_matrix =  ((pos_feature - pos_means).T @ (pos_feature - pos_means)) \\\n",
    "                + ((neg_feature - neg_means).T @ (neg_feature - neg_means))\n",
    "        \n",
    "        # Compute the between class scatter matrices\n",
    "        between_class_scatter_matrix  = (len(pos_feature)* (pos_means-means).T @ (pos_means-means))\\\n",
    "                + (len(neg_feature)* (neg_means-means).T @ (neg_means-means))\n",
    "        \n",
    "        # Compute the eigenvectors and corresponding eigenvalues for the scatter matrices\n",
    "        eigen_values, eigen_vectors = np.linalg.eig(np.linalg.inv(within_class_scatter_matrix)@(between_class_scatter_matrix))\n",
    "        \n",
    "        #Sort the eigenvalues and select the top k\n",
    "        pairs = [(np.abs(eigen_values[i]), eigen_vectors[:,i]) for i in range(len(eigen_values))]\n",
    "        pairs = sorted(pairs, key=lambda x: x[0], reverse=True)\n",
    "        \n",
    "        # Create a new matrix containing eigenvectors that map to the k eigenvalues\n",
    "        self.w_matrix = np.hstack((pairs[0][1].reshape(feature_num,1), pairs[1][1].reshape(feature_num,1))).real\n",
    "    \n",
    "    def transform(self,feature):\n",
    "        return np.array(feature@(self.w_matrix))"
   ]
  },
  {
   "cell_type": "code",
   "execution_count": 14,
   "metadata": {},
   "outputs": [],
   "source": [
    "# pick 10% of data for test\n",
    "np.random.seed(124)\n",
    "msk = np.random.rand(len(df_feature)) < 0.9\n",
    "test_feature = df_feature[~msk]\n",
    "test_label = df_label[~msk]\n",
    "\n",
    "train_feature = df_feature[msk]\n",
    "train_label = df_label[msk]"
   ]
  },
  {
   "cell_type": "code",
   "execution_count": 15,
   "metadata": {},
   "outputs": [],
   "source": [
    "lda = LDA()\n",
    "lda.fit(train_feature,train_label)"
   ]
  },
  {
   "cell_type": "code",
   "execution_count": 16,
   "metadata": {},
   "outputs": [],
   "source": [
    "# Obtain the new features (i.e. LDA components) \n",
    "train_feature_LDA = lda.transform(train_feature)\n",
    "test_feature_LDA = lda.transform(test_feature)"
   ]
  },
  {
   "cell_type": "code",
   "execution_count": 17,
   "metadata": {},
   "outputs": [
    {
     "name": "stdout",
     "output_type": "stream",
     "text": [
      "Linear Classifier/testing\n",
      "Accuracy: 0.9310344827586207\n",
      "Confusion Matrix:\n",
      "[[37.  4.]\n",
      " [ 0. 17.]]\n",
      "AUC: 0.9383070301291248\n"
     ]
    },
    {
     "data": {
      "image/png": "[encoded data removed]",
      "text/plain": [
       "<Figure size 432x288 with 1 Axes>"
      ]
     },
     "metadata": {
      "needs_background": "light"
     },
     "output_type": "display_data"
    }
   ],
   "source": [
    "linear_classifier = Perceptron(n_iter=1000)\n",
    "linear_classifier.fit(train_feature,train_label)\n",
    "\n",
    "prob,pred = linear_classifier.predict(test_feature)\n",
    "print(\"Linear Classifier/testing\")\n",
    "print(\"Accuracy:\",accuracy(test_label, pred))\n",
    "print(\"Confusion Matrix:\")\n",
    "print(confusion_mat(test_label, pred))\n",
    "fpr, tpr, thresholds =  ROC(test_label,prob)\n",
    "print(\"AUC:\",AUC(fpr,tpr))\n",
    "ROC_plot(fpr,tpr)"
   ]
  },
  {
   "cell_type": "code",
   "execution_count": 20,
   "metadata": {},
   "outputs": [
    {
     "name": "stdout",
     "output_type": "stream",
     "text": [
      "Linear Classifier/testing\n",
      "Accuracy: 0.9482758620689655\n",
      "Confusion Matrix:\n",
      "[[41.  0.]\n",
      " [ 3. 14.]]\n",
      "AUC: 0.9512195121951219\n"
     ]
    },
    {
     "data": {
      "image/png": "[encoded data removed]",
      "text/plain": [
       "<Figure size 432x288 with 1 Axes>"
      ]
     },
     "metadata": {
      "needs_background": "light"
     },
     "output_type": "display_data"
    }
   ],
   "source": [
    "linear_classifier = Perceptron(n_iter=1000)\n",
    "linear_classifier.fit(train_feature_LDA,train_label)\n",
    "\n",
    "prob,pred = linear_classifier.predict(test_feature_LDA)\n",
    "print(\"Linear Classifier/testing\")\n",
    "print(\"Accuracy:\",accuracy(test_label, pred))\n",
    "print(\"Confusion Matrix:\")\n",
    "print(confusion_mat(test_label, pred))\n",
    "fpr, tpr, thresholds =  ROC(test_label,prob)\n",
    "print(\"AUC:\",AUC(fpr,tpr))\n",
    "ROC_plot(fpr,tpr)"
   ]
  },
  {
   "cell_type": "code",
   "execution_count": 21,
   "metadata": {},
   "outputs": [],
   "source": [
    "def plot_contours(xx, yy, model, **params):\n",
    "    meshgrid = np.c_[xx.ravel(), yy.ravel()]\n",
    "    prob, pred  = model.predict(meshgrid)\n",
    "    Z =  np.array(pred).reshape(xx.shape)\n",
    "    out = plt.contourf(xx, yy, Z, **params)    \n",
    "    return out   "
   ]
  },
  {
   "cell_type": "code",
   "execution_count": 22,
   "metadata": {},
   "outputs": [],
   "source": [
    "X0 = train_feature_LDA[:,0]\n",
    "X1 = train_feature_LDA[:,1]"
   ]
  },
  {
   "cell_type": "code",
   "execution_count": 23,
   "metadata": {},
   "outputs": [],
   "source": [
    "x_min = np.min(X0) - 0.1\n",
    "x_max = np.max(X0) + 0.1\n",
    "y_min = np.min(X1) - 0.1\n",
    "y_max = np.max(X1) + 0.1\n",
    "\n",
    "xx, yy = np.meshgrid(np.arange(x_min, x_max, 0.005),\n",
    "                         np.arange(y_min, y_max, 0.005))"
   ]
  },
  {
   "cell_type": "code",
   "execution_count": 24,
   "metadata": {},
   "outputs": [
    {
     "data": {
      "image/png": "[encoded data removed]",
      "text/plain": [
       "<Figure size 432x288 with 1 Axes>"
      ]
     },
     "metadata": {
      "needs_background": "light"
     },
     "output_type": "display_data"
    }
   ],
   "source": [
    "plot_contours(xx, yy, linear_classifier,\n",
    "                cmap=plt.cm.coolwarm, alpha=0.8)\n",
    "plt.scatter(X0, X1, c=train_label, cmap=plt.cm.coolwarm, s=20, edgecolors='k')\n",
    "plt.show()"
   ]
  },
  {
   "cell_type": "code",
   "execution_count": 25,
   "metadata": {},
   "outputs": [],
   "source": [
    "class PCA:\n",
    "    def __init__(self):\n",
    "        return\n",
    "    def fit(self,feature, component=2):\n",
    "        feature_num = feature.shape[1]\n",
    "        \n",
    "        eig_vecs, eig_vals, V = np.linalg.svd(feature.T)\n",
    "        eig_pairs = [(np.abs(eig_vals[i]), eig_vecs[:,i]) for i in range(len(eig_vals))]\n",
    "        \n",
    "        self.component = np.hstack((eig_pairs[0][1].reshape(feature_num,1), \n",
    "                          eig_pairs[1][1].reshape(feature_num,1)))\n",
    "        \n",
    "        for i in range(2,component):\n",
    "            self.component = np.hstack((self.component, eig_pairs[i][1].reshape(feature_num,1)))\n",
    "    def transform(self,feature):\n",
    "        return feature@self.component"
   ]
  },
  {
   "cell_type": "code",
   "execution_count": 26,
   "metadata": {},
   "outputs": [],
   "source": [
    "# standardization data\n",
    "def standardize(data):\n",
    "    mean = data.mean(axis=0)\n",
    "    out = data - mean\n",
    "    out /= np.std(out)\n",
    "    return out"
   ]
  },
  {
   "cell_type": "code",
   "execution_count": 27,
   "metadata": {},
   "outputs": [],
   "source": [
    "standard_train_feature = standardize(train_feature)\n",
    "standard_test_feature = standardize(test_feature)"
   ]
  },
  {
   "cell_type": "code",
   "execution_count": 28,
   "metadata": {},
   "outputs": [],
   "source": [
    "pca = PCA()\n",
    "pca.fit(standard_train_feature,component=2)"
   ]
  },
  {
   "cell_type": "code",
   "execution_count": 29,
   "metadata": {},
   "outputs": [],
   "source": [
    "train_feature_PCA = pca.transform(standard_train_feature)\n",
    "test_feature_PCA = pca.transform(standard_test_feature)"
   ]
  },
  {
   "cell_type": "code",
   "execution_count": 32,
   "metadata": {},
   "outputs": [
    {
     "name": "stdout",
     "output_type": "stream",
     "text": [
      "Linear Classifier/testing\n",
      "Accuracy: 0.896551724137931\n",
      "Confusion Matrix:\n",
      "[[37.  4.]\n",
      " [ 2. 15.]]\n",
      "AUC: 0.9325681492109038\n"
     ]
    },
    {
     "data": {
      "image/png": "[encoded data removed]",
      "text/plain": [
       "<Figure size 432x288 with 1 Axes>"
      ]
     },
     "metadata": {
      "needs_background": "light"
     },
     "output_type": "display_data"
    }
   ],
   "source": [
    "linear_classifier = Perceptron(n_iter=1000)\n",
    "linear_classifier.fit(train_feature_PCA,train_label)\n",
    "\n",
    "prob,pred = linear_classifier.predict(test_feature_PCA)\n",
    "print(\"Linear Classifier/testing\")\n",
    "print(\"Accuracy:\",accuracy(test_label, pred))\n",
    "print(\"Confusion Matrix:\")\n",
    "print(confusion_mat(test_label, pred))\n",
    "fpr, tpr, thresholds =  ROC(test_label,prob)\n",
    "print(\"AUC:\",AUC(fpr,tpr))\n",
    "ROC_plot(fpr,tpr)"
   ]
  },
  {
   "cell_type": "code",
   "execution_count": 33,
   "metadata": {},
   "outputs": [],
   "source": [
    "X0 =train_feature_PCA [:,0]\n",
    "X1 =train_feature_PCA [:,1]"
   ]
  },
  {
   "cell_type": "code",
   "execution_count": 34,
   "metadata": {},
   "outputs": [],
   "source": [
    "x_min = np.min(X0) - 1\n",
    "x_max = np.max(X0) + 1\n",
    "y_min = np.min(X1) - 1\n",
    "y_max = np.max(X1) + 1\n",
    "\n",
    "xx, yy = np.meshgrid(np.arange(x_min, x_max, 0.1),\n",
    "                         np.arange(y_min, y_max, 0.1))"
   ]
  },
  {
   "cell_type": "code",
   "execution_count": 35,
   "metadata": {},
   "outputs": [
    {
     "data": {
      "image/png": "[encoded data removed]",
      "text/plain": [
       "<Figure size 432x288 with 1 Axes>"
      ]
     },
     "metadata": {
      "needs_background": "light"
     },
     "output_type": "display_data"
    }
   ],
   "source": [
    "plot_contours(xx, yy, linear_classifier,\n",
    "                cmap=plt.cm.coolwarm, alpha=0.8)\n",
    "plt.scatter(X0, X1, c=train_label, cmap=plt.cm.coolwarm, s=20, edgecolors='k')\n",
    "plt.show()"
   ]
  },
  {
   "cell_type": "code",
   "execution_count": null,
   "metadata": {},
   "outputs": [],
   "source": []
  }
 ],
 "metadata": {
  "kernelspec": {
   "display_name": "Python 3",
   "language": "python",
   "name": "python3"
  },
  "language_info": {
   "codemirror_mode": {
    "name": "ipython",
    "version": 3
   },
   "file_extension": ".py",
   "mimetype": "text/x-python",
   "name": "python",
   "nbconvert_exporter": "python",
   "pygments_lexer": "ipython3",
   "version": "3.7.6"
  }
 },
 "nbformat": 4,
 "nbformat_minor": 2
}
