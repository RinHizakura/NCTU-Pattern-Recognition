{
 "cells": [
  {
   "cell_type": "code",
   "execution_count": 15,
   "metadata": {},
   "outputs": [],
   "source": [
    "import numpy as np\n",
    "import pandas as pd\n",
    "import cv2 as cv\n",
    "import matplotlib.pyplot as plt"
   ]
  },
  {
   "cell_type": "code",
   "execution_count": 17,
   "metadata": {},
   "outputs": [],
   "source": [
    "# part of face recognition\n",
    "bmp = cv.imread('facesP1.bmp',0)"
   ]
  },
  {
   "cell_type": "code",
   "execution_count": 18,
   "metadata": {},
   "outputs": [],
   "source": [
    "train_img = []\n",
    "train_label = []\n",
    "test_img = []\n",
    "test_label = []\n",
    "\n",
    "for x in range(0,200,40):\n",
    "    for y in range(0,640,40):\n",
    "        if(x==160):\n",
    "            test_img.append(bmp[x:x+40,y:y+40])\n",
    "            test_label.append(y/40)\n",
    "        else:\n",
    "            train_img.append(bmp[x:x+40,y:y+40])\n",
    "            train_label.append(y/40)\n",
    "#flip\n",
    "for x in range(0,200,40):\n",
    "    for y in range(0,640,40):\n",
    "            train_img.append(np.flip(bmp[x:x+40,y:y+40],axis=1))\n",
    "            train_label.append(y/40)\n",
    "            \n",
    "train_img = np.array(train_img)\n",
    "train_Y = np.array(train_label)\n",
    "test_img = np.array(test_img)\n",
    "test_Y = np.array(test_label)"
   ]
  },
  {
   "cell_type": "code",
   "execution_count": 19,
   "metadata": {},
   "outputs": [],
   "source": [
    "train_X = train_img.reshape(train_img.shape[0],train_img.shape[1]*train_img.shape[2])\n",
    "test_X = test_img.reshape(test_img.shape[0],test_img.shape[1]*test_img.shape[2])"
   ]
  },
  {
   "cell_type": "code",
   "execution_count": 21,
   "metadata": {},
   "outputs": [],
   "source": [
    "def accuracy(true,pred):\n",
    "    return np.sum(true==pred)/len(true)"
   ]
  },
  {
   "cell_type": "code",
   "execution_count": 22,
   "metadata": {},
   "outputs": [],
   "source": [
    "# standardization data\n",
    "def standardize(data):\n",
    "    mean = data.mean(axis=0)\n",
    "    out = data - mean\n",
    "    out /= np.std(out)\n",
    "    return out"
   ]
  },
  {
   "cell_type": "code",
   "execution_count": 23,
   "metadata": {},
   "outputs": [],
   "source": [
    "class PCA:\n",
    "    def __init__(self):\n",
    "        return\n",
    "    def fit(self,feature, component=2):\n",
    "        feature_num = feature.shape[1]\n",
    "        \n",
    "        eig_vecs, eig_vals, V = np.linalg.svd(feature.T)\n",
    "        self.eig_pairs = [(np.abs(eig_vals[i]), eig_vecs[:,i]) for i in range(len(eig_vals))]\n",
    "        \n",
    "        self.component = np.hstack((self.eig_pairs[0][1].reshape(feature_num,1), \n",
    "                          self.eig_pairs[1][1].reshape(feature_num,1)))\n",
    "        \n",
    "        for i in range(2,component):\n",
    "            self.component = np.hstack((self.component, self.eig_pairs[i][1].reshape(feature_num,1)))\n",
    "        \n",
    "    def transform(self,feature):\n",
    "        return feature@self.component\n",
    "    \n",
    "    def get_componet(self):\n",
    "        return self.component\n",
    "    \n",
    "    def get_eignepair(self):\n",
    "        return self.eig_pairs"
   ]
  },
  {
   "cell_type": "code",
   "execution_count": 24,
   "metadata": {},
   "outputs": [
    {
     "data": {
      "image/png": "[encoded data removed]",
      "text/plain": [
       "<Figure size 432x288 with 1 Axes>"
      ]
     },
     "metadata": {
      "needs_background": "light"
     },
     "output_type": "display_data"
    }
   ],
   "source": [
    "plt.imshow(train_X[32].reshape(40,40),cmap='gray')\n",
    "plt.axis('off')\n",
    "plt.show()"
   ]
  },
  {
   "cell_type": "code",
   "execution_count": 25,
   "metadata": {},
   "outputs": [],
   "source": [
    "# mean face\n",
    "mean = train_X.mean(axis=0)\n",
    "# zero mean face \n",
    "zero_mean_train_X = train_X - mean\n",
    "\n",
    "# Doing PCA, and get eigenface\n",
    "pca = PCA()\n",
    "pca.fit(zero_mean_train_X, component=90)\n",
    "train_X_PCA = pca.transform(zero_mean_train_X)\n",
    "eigen_pair = pca.get_eignepair()"
   ]
  },
  {
   "cell_type": "code",
   "execution_count": 26,
   "metadata": {},
   "outputs": [
    {
     "data": {
      "image/png": "[encoded data removed]",
      "text/plain": [
       "<Figure size 432x288 with 1 Axes>"
      ]
     },
     "metadata": {
      "needs_background": "light"
     },
     "output_type": "display_data"
    }
   ],
   "source": [
    "var_comp_sum = np.cumsum(np.array(eigen_pair)[:,0])/sum(np.array(eigen_pair)[:,0])\n",
    "num_comp = range(1,len(eigen_pair)+1)\n",
    "result = np.where(var_comp_sum >= 0.85)\n",
    "\n",
    "plt.title('Variance > 0.85 when choosing {}'.format(result[0][0]))\n",
    "plt.xlabel('Principal Components')\n",
    "plt.ylabel('Cum. Prop. Variance Expalined')\n",
    "plt.axvline(x=result[0][0], color='r', linestyle='-')\n",
    "plt.plot(num_comp, var_comp_sum)\n",
    "plt.show()"
   ]
  },
  {
   "cell_type": "code",
   "execution_count": 27,
   "metadata": {},
   "outputs": [],
   "source": [
    "# using average weight as weight of the class\n",
    "avg_weight = np.zeros([16,train_X_PCA.shape[1]])\n",
    "for idx in range(len(train_X_PCA)): \n",
    "    avg_weight[idx%16] += train_X_PCA[idx]\n",
    "\n",
    "avg_weight /= ((train_X_PCA.shape[0])/16)"
   ]
  },
  {
   "cell_type": "code",
   "execution_count": 28,
   "metadata": {},
   "outputs": [
    {
     "data": {
      "text/plain": [
       "0.8125"
      ]
     },
     "execution_count": 28,
     "metadata": {},
     "output_type": "execute_result"
    }
   ],
   "source": [
    "pred = []\n",
    "for idx in range(len(train_X_PCA)): \n",
    "    res = 0\n",
    "    resVal = np.inf\n",
    "    for i in range(16):\n",
    "        if  ((train_X_PCA[idx] - avg_weight[i])**2).sum() < resVal:\n",
    "            res =  i\n",
    "            resVal = ((train_X_PCA[idx]- avg_weight[i])**2).sum()\n",
    "    pred.append(res)\n",
    "    \n",
    "accuracy(train_Y,pred)"
   ]
  },
  {
   "cell_type": "code",
   "execution_count": 29,
   "metadata": {
    "scrolled": true
   },
   "outputs": [
    {
     "data": {
      "text/plain": [
       "0.5"
      ]
     },
     "execution_count": 29,
     "metadata": {},
     "output_type": "execute_result"
    }
   ],
   "source": [
    "zero_mean_test_X = test_X - mean\n",
    "test_X_PCA = pca.transform(zero_mean_test_X)\n",
    "\n",
    "pred = []\n",
    "for idx in range(len(test_X_PCA)): \n",
    "    res = 0\n",
    "    resVal = np.inf\n",
    "    for i in range(16):\n",
    "        if  ((test_X_PCA[idx] - avg_weight[i])**2).sum() < resVal:\n",
    "            res =  i\n",
    "            resVal = ((test_X_PCA[idx]- avg_weight[i])**2).sum()\n",
    "    pred.append(res)\n",
    "    \n",
    "accuracy(test_Y,pred)"
   ]
  },
  {
   "cell_type": "code",
   "execution_count": null,
   "metadata": {},
   "outputs": [],
   "source": []
  }
 ],
 "metadata": {
  "kernelspec": {
   "display_name": "Python 3",
   "language": "python",
   "name": "python3"
  },
  "language_info": {
   "codemirror_mode": {
    "name": "ipython",
    "version": 3
   },
   "file_extension": ".py",
   "mimetype": "text/x-python",
   "name": "python",
   "nbconvert_exporter": "python",
   "pygments_lexer": "ipython3",
   "version": "3.7.6"
  }
 },
 "nbformat": 4,
 "nbformat_minor": 4
}
